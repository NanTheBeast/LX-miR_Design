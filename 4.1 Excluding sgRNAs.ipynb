{
 "cells": [
  {
   "cell_type": "markdown",
   "metadata": {},
   "source": [
    "# Excluding sgRNAs\n",
    "\n",
    "Once all the scores had been calculated and imported for the various sgRNAs, these scores and other factors were used to exclude the sgRNAs which were unlikely to be active or were likely to result in off-target cleavage (7,421 sgRNAs excluded of 26,344 total).\n",
    "\n",
    "Exclude Reason | Character | # of sgRNAs\n",
    "-------------- | --------- | -----------\n",
    "Targets Repetitive | R     | 447\n",
    "Contains poly(T) | T       | 1183\n",
    "Cleaves in extended | C    | 4283\n",
    "Other exact matches | D    | 864\n",
    "Zhang score < 0.2 | L      | 475\n",
    "\n",
    "## sgRNAs Targeting Repetitive Sequences\n",
    "\n",
    "Those sgRNAs with greater than 10 identical matches in the human genome beside the targeted miRNA(s) were excluded not only due to likely off-target effects. Those sgRNAs with more than 10 target sites are also expected to create genomic instablity which may kill the cell."
   ]
  },
  {
   "cell_type": "code",
   "execution_count": null,
   "metadata": {},
   "outputs": [],
   "source": [
    "import getpass\n",
    "import data_processing as dp\n",
    "\n",
    "def exclude_repetitive(db_name, sql_version=\"MySQL\", firewall=False):\n",
    "    \"\"\"\n",
    "        Adds 'R' to exclude column where NumExactMatch > 10 + number of sites in miRNA(s)\n",
    "    \"\"\"\n",
    "    db_con = dp.DatabaseConnection(sql_version, db_name=db_name, firewall=firewall)\n",
    "    # clear row\n",
    "    db_con.update_row({\"Exclude\": None}, {}, \"SingleGuideRNA\")\n",
    "    \n",
    "    rows = db_con.fetch_query(\"\"\"SELECT t.SgID\n",
    "FROM SingleGuideRNA AS s\n",
    "JOIN SgRNATargetInformation AS t\n",
    "ON s.SgID = t.SgID\n",
    "GROUP BY t.SgID, s.NumExactMatch\n",
    "HAVING s.NumExactMatch > COUNT(t.SgID)+10;\"\"\")\n",
    "    \n",
    "    if sql_version == \"MSSQL\":\n",
    "        sgIDs = [row.SgID for row in rows]\n",
    "    else:\n",
    "        sgIDs = [sg for sg, in rows]\n",
    "        \n",
    "    db_con.update_many_rows({\"Exclude\": [\"R\"]*len(sgIDs)}, {\"SgID\": sgIDs}, \"SingleGuideRNA\")\n",
    "    db_con.close_cursor()\n",
    "    db_con.close_connection()"
   ]
  },
  {
   "cell_type": "code",
   "execution_count": null,
   "metadata": {},
   "outputs": [],
   "source": [
    "exclude_repetitive(\"miR-test\", firewall=True)"
   ]
  },
  {
   "cell_type": "markdown",
   "metadata": {},
   "source": [
    "447 sgRNAs are excluded because they target repetitive sequences when hg19 genomic alignment is used.\n",
    "\n",
    "## Poly(T)\n",
    "\n",
    "Those sgRNAs with 4 or greater T's in a row, which can lead to <a href=\"https://doi.org/10.1016/0092-8674(81)90522-5\">RNA Pol III termination</a>, were excluded."
   ]
  },
  {
   "cell_type": "code",
   "execution_count": null,
   "metadata": {},
   "outputs": [],
   "source": [
    "import data_processing as dp\n",
    "\n",
    "def exclude_polyT(db_name, sql_version=\"MySQL\", firewall=False):\n",
    "    \"\"\"\n",
    "        Adds 'T' to exclude column if sgRNAs has >4 T's in a row\n",
    "    \"\"\"\n",
    "    db_con = dp.DatabaseConnection(sql_version, db_name=db_name, firewall=firewall)\n",
    "    rows = db_con.fetch_query(\"SELECT SgID FROM SingleGuideRNA WHERE SgRNA LIKE '%TTTT%' AND Exclude IS NULL;\")\n",
    "    if sql_version == \"MSSQL\":\n",
    "        sgIDs = [row.SgID for row in rows]\n",
    "    else:\n",
    "        sgIDs = [sg for sg, in rows]\n",
    "    db_con.update_many_rows({\"Exclude\": [\"T\"]*len(sgIDs)}, {\"SgID\": sgIDs}, \"SingleGuideRNA\")\n",
    "    db_con.close_cursor()\n",
    "    db_con.close_connection()"
   ]
  },
  {
   "cell_type": "code",
   "execution_count": null,
   "metadata": {},
   "outputs": [],
   "source": [
    "exclude_polyT(\"miR-test\", firewall=True)"
   ]
  },
  {
   "cell_type": "markdown",
   "metadata": {},
   "source": [
    "1183 sgRNAs are excluded because of poly(T).\n",
    "\n",
    "## Extended Cleavage\n",
    "\n",
    "Those sgRNAs which cleave outside the primary miRNA stemloop were excluded as indels in theses regions are unlikely to knockout the targeted miRNA (our data). "
   ]
  },
  {
   "cell_type": "code",
   "execution_count": null,
   "metadata": {},
   "outputs": [],
   "source": [
    "import data_processing as dp\n",
    "\n",
    "def exclude_extended_cleavage(db_name, sql_version=\"MySQL\", firewall=False):\n",
    "    \"\"\"\n",
    "        Adds 'C' to exclude if all cleavage sites are 'ext'\n",
    "    \"\"\"\n",
    "    db_con = dp.DatabaseConnection(sql_version, db_name=db_name, firewall=firewall)\n",
    "    \n",
    "    rows_ext = db_con.fetch_query(\"\"\"SELECT DISTINCT t.SgID\n",
    "FROM SgRNATargetInformation AS t \n",
    "JOIN SingleGuideRNA AS s \n",
    "ON t.SgID = s.SgID\n",
    "WHERE t.CleavageSite LIKE 'ext' \n",
    "AND s.Exclude IS NULL \n",
    "AND t.SgID NOT IN\n",
    "(SELECT DISTINCT SgID \n",
    "FROM SgRNATargetInformation \n",
    "WHERE CleavageSite NOT LIKE 'ext');\"\"\")\n",
    "    \n",
    "    if sql_version == \"MSSQL\":\n",
    "        ext = [row.SgID for row in rows_ext]\n",
    "    else:\n",
    "        ext = [sgID for sgID, in rows_ext]\n",
    "    \n",
    "    up_dict = {\"Exclude\": [\"C\"]*len(ext)}\n",
    "    select_dict = {\"SgID\": ext}\n",
    "    \n",
    "    db_con.update_many_rows(up_dict, select_dict, \"SingleGuideRNA\")\n",
    "    db_con.close_cursor()\n",
    "    db_con.close_connection()"
   ]
  },
  {
   "cell_type": "code",
   "execution_count": null,
   "metadata": {},
   "outputs": [],
   "source": [
    "exclude_extended_cleavage(\"miR-test\", firewall=True)"
   ]
  },
  {
   "cell_type": "markdown",
   "metadata": {},
   "source": [
    "There are 4283 sgRNAs which should be excluded due to targeting regions outside the stemloop. \n",
    "\n",
    "## Other Exact Matches\n",
    "\n",
    "sgRNAs with less than 10, but at least one off-target site which exactly matches the sgRNA in hg19 were excluded."
   ]
  },
  {
   "cell_type": "code",
   "execution_count": null,
   "metadata": {},
   "outputs": [],
   "source": [
    "import getpass\n",
    "import data_processing as dp\n",
    "\n",
    "def exclude_multiple(db_name, sql_version=\"MySQL\", firewall=False):\n",
    "    \"\"\"\n",
    "        Adds 'D' to exclude column where NumExactMatch greater than the number of sites in miRNA(s)\n",
    "    \"\"\"\n",
    "    db_con = dp.DatabaseConnection(sql_version, db_name=db_name, firewall=firewall)\n",
    "        \n",
    "    rows = db_con.fetch_query(\"\"\"SELECT t.SgID\n",
    "FROM SingleGuideRNA AS s\n",
    "JOIN SgRNATargetInformation AS t\n",
    "ON s.SgID = t.SgID\n",
    "GROUP BY t.SgID, s.NumExactMatch, s.Exclude\n",
    "HAVING s.NumExactMatch > COUNT(t.SgID) AND s.Exclude IS NULL;\"\"\")\n",
    "    if sql_version == \"MSSQL\":\n",
    "        sgIDs = [row.SgID for row in rows]\n",
    "    else:\n",
    "        sgIDs = [sg for sg, in rows]\n",
    "        \n",
    "    db_con.update_many_rows({\"Exclude\": [\"D\"]*len(sgIDs)}, {\"SgID\": sgIDs}, \"SingleGuideRNA\")\n",
    "    db_con.close_cursor()\n",
    "    db_con.close_connection()"
   ]
  },
  {
   "cell_type": "code",
   "execution_count": 1,
   "metadata": {},
   "outputs": [
    {
     "ename": "NameError",
     "evalue": "name 'exclude_multiple' is not defined",
     "output_type": "error",
     "traceback": [
      "\u001b[1;31m---------------------------------------------------------------------------\u001b[0m",
      "\u001b[1;31mNameError\u001b[0m                                 Traceback (most recent call last)",
      "\u001b[1;32m<ipython-input-1-61e0ad635491>\u001b[0m in \u001b[0;36m<module>\u001b[1;34m()\u001b[0m\n\u001b[1;32m----> 1\u001b[1;33m \u001b[0mexclude_multiple\u001b[0m\u001b[1;33m(\u001b[0m\u001b[1;34m\"miR-test\"\u001b[0m\u001b[1;33m,\u001b[0m \u001b[0mfirewall\u001b[0m\u001b[1;33m=\u001b[0m\u001b[0mTrue\u001b[0m\u001b[1;33m)\u001b[0m\u001b[1;33m\u001b[0m\u001b[0m\n\u001b[0m",
      "\u001b[1;31mNameError\u001b[0m: name 'exclude_multiple' is not defined"
     ]
    }
   ],
   "source": [
    "exclude_multiple(\"miR-test\", firewall=True)"
   ]
  },
  {
   "cell_type": "markdown",
   "metadata": {},
   "source": [
    "There are 864 sgRNAs with more than the expected miRNA target sites as exact matches which are not excluded for other reasons.\n",
    "\n",
    "## Low Zhang score\n",
    "\n",
    "Those sgRNAs with Zhang scores below 0.2 were excluded due to possible off-target effect. The letter in the exclude column was added to the database after the oligos had been ordered, which is why additional filters are used to remove low scoring sgRNAs in the functions used to select sgRNAs."
   ]
  },
  {
   "cell_type": "code",
   "execution_count": null,
   "metadata": {},
   "outputs": [],
   "source": [
    "import data_processing as dp\n",
    "\n",
    "def exclude_zhang(db_name, sql_version=\"MySQL\", firewall=False):\n",
    "    \"\"\"\n",
    "        Adds 'L' to exclude if Zhang score below 0.2\n",
    "    \"\"\"\n",
    "    db_con = dp.DatabaseConnection(sql_version, db_name=db_name, firewall=firewall)\n",
    "    \n",
    "    rows_low = db_con.fetch_query(\"\"\"SELECT SgID\n",
    "FROM SingleGuideRNA\n",
    "WHERE ZhangScore < 0.2  \n",
    "AND Exclude IS NULL;\"\"\")\n",
    "    \n",
    "    if sql_version == \"MSSQL\":\n",
    "        low = [row.SgID for row in rows_low]\n",
    "    else:\n",
    "        low = [sgID for sgID, in rows_low]\n",
    "    \n",
    "    up_dict = {\"Exclude\": [\"L\"]*len(low)}\n",
    "    select_dict = {\"SgID\": low}\n",
    "    \n",
    "    db_con.update_many_rows(up_dict, select_dict, \"SingleGuideRNA\")\n",
    "    db_con.close_cursor()\n",
    "    db_con.close_connection()"
   ]
  },
  {
   "cell_type": "code",
   "execution_count": null,
   "metadata": {},
   "outputs": [],
   "source": [
    "exclude_zhang(\"miR-test\", firewall=True)"
   ]
  },
  {
   "cell_type": "markdown",
   "metadata": {},
   "source": [
    "475 sgRNAs which were not excluded for other reasons have Zhang scores less than 0.2."
   ]
  }
 ],
 "metadata": {
  "kernelspec": {
   "display_name": "Python 2",
   "language": "python",
   "name": "python2"
  },
  "language_info": {
   "codemirror_mode": {
    "name": "ipython",
    "version": 2
   },
   "file_extension": ".py",
   "mimetype": "text/x-python",
   "name": "python",
   "nbconvert_exporter": "python",
   "pygments_lexer": "ipython2",
   "version": "2.7.9"
  }
 },
 "nbformat": 4,
 "nbformat_minor": 2
}
