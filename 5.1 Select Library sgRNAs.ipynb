{
 "cells": [
  {
   "cell_type": "markdown",
   "metadata": {},
   "source": [
    "# Select sgRNA for Library\n",
    "\n",
    "\n",
    "## Add 'InLibrary'\n",
    "\n",
    "To indicate which sgRNAs are included in the library, a new column 'InLibrary' was added to the SingleGuideRNA table. "
   ]
  },
  {
   "cell_type": "code",
   "execution_count": 1,
   "metadata": {},
   "outputs": [],
   "source": [
    "import data_processing as dp\n",
    "\n",
    "def add_inlibrary(db_name, sql_version=\"MySQL\", firewall=False):\n",
    "    db_con = dp.DatabaseConnection(sql_version, db_name=db_name, firewall=firewall)\n",
    "    \n",
    "    db_con.add_column(\"InLibrary\", \"VARCHAR(1)\", \"SingleGuideRNA\")\n",
    "    \n",
    "    db_con.close_cursor()\n",
    "    db_con.close_connection()"
   ]
  },
  {
   "cell_type": "code",
   "execution_count": 3,
   "metadata": {},
   "outputs": [],
   "source": [
    "add_inlibrary(\"miR-test\", firewall=True)"
   ]
  },
  {
   "cell_type": "markdown",
   "metadata": {},
   "source": [
    "## Find Exactly 4 or 5\n",
    "\n",
    "First, those miRNAs with exactly 4 or 5 sgRNAs which are not excluded were identified and included in the library."
   ]
  },
  {
   "cell_type": "code",
   "execution_count": 4,
   "metadata": {},
   "outputs": [],
   "source": [
    "import data_processing as dp\n",
    "\n",
    "def find_exact(db_name, sql_version=\"MySQL\", firewall=False):\n",
    "    db_con = dp.DatabaseConnection(sql_version, db_name=db_name, firewall=firewall)\n",
    "    \n",
    "    rows = db_con.fetch_query(\"\"\"SELECT p.PriID\n",
    "FROM SgRNATargetInformation AS t\n",
    "JOIN PrimaryMicroRNA AS p\n",
    "ON t.PriID = p.PriID\n",
    "JOIN (SELECT SgID FROM SingleGuideRNA WHERE Exclude IS NULL) AS s\n",
    "ON t.SgID = s.SgID\n",
    "GROUP BY p.PriID\n",
    "HAVING COUNT(DISTINCT s.SgID) = 5 OR COUNT(DISTINCT s.SgID) = 4\"\"\")\n",
    "    \n",
    "    if sql_version == \"MSSQL\":\n",
    "        pris = [\"'{}'\".format(row.PriID) for row in rows]\n",
    "    else:\n",
    "        pris = [\"'{}'\".format(row) for row, in rows]\n",
    "    pri_str = \",\".join(pris)\n",
    "        \n",
    "    # fetch sgRNAs associated with these miRNAs\n",
    "    sg_rows = db_con.fetch_query(\"\"\"SELECT s.SgID\n",
    "FROM SingleGuideRNA AS s\n",
    "JOIN SgRNATargetInformation AS t\n",
    "ON s.SgID = t.SgID\n",
    "WHERE s.Exclude IS NULL AND t.PriID IN ({});\"\"\".format(pri_str))\n",
    "    \n",
    "    if sql_version == \"MSSQL\":\n",
    "        sgs = [row.SgID for row in sg_rows]\n",
    "    else:\n",
    "        sgs = [sg for sg, in sg_rows]\n",
    "    \n",
    "    # add 'T' to InLibrary\n",
    "    db_con.update_many_rows({\"InLibrary\": ['T']*len(sgs)}, {\"SgID\": sgs}, \"SingleGuideRNA\")\n",
    "    db_con.close_cursor()\n",
    "    db_con.close_connection()"
   ]
  },
  {
   "cell_type": "code",
   "execution_count": 5,
   "metadata": {},
   "outputs": [],
   "source": [
    "find_exact(\"miR-test\", firewall=True)"
   ]
  },
  {
   "cell_type": "markdown",
   "metadata": {},
   "source": [
    "This adds 1059 sgRNAs to the library which target 268 primary miRNAs (257 with at least 4 sgRNAs).\n",
    "\n",
    "\n",
    "## Find the Rest\n",
    "\n",
    "Those primary miRNAs with more than 5 good sgRNAs were then filtered to identify the best possible sgRNAs."
   ]
  },
  {
   "cell_type": "code",
   "execution_count": 6,
   "metadata": {},
   "outputs": [],
   "source": [
    "import data_processing as dp\n",
    "\n",
    "def find_all(db_name, sql_version=\"MySQL\", firewall=False):\n",
    "    db_con = dp.DatabaseConnection(sql_version, db_name=db_name, firewall=firewall)\n",
    "        \n",
    "    rows = db_con.fetch_query(\"\"\"SELECT p.PriID\n",
    "FROM SgRNATargetInformation AS t\n",
    "JOIN PrimaryMicroRNA AS p\n",
    "ON t.PriID = p.PriID\n",
    "JOIN (SELECT SgID FROM SingleGuideRNA WHERE Exclude IS NULL) AS s\n",
    "ON t.SgID = s.SgID\n",
    "GROUP BY p.PriID\n",
    "HAVING COUNT(DISTINCT s.SgID) > 5\"\"\")\n",
    "    \n",
    "    if sql_version == \"MSSQL\":\n",
    "        pris = [\"'{}'\".format(row.PriID) for row in rows]\n",
    "    else:\n",
    "        pris = [\"'{}'\".format(row) for row, in rows]\n",
    "    pri_str = \",\".join(pris)\n",
    "        \n",
    "    # fetch sgRNAs associated with these miRNAs\n",
    "    sg_rows = db_con.fetch_query(\"\"\"SELECT t.PriID, s.SgID, s.MaxAzimuthScore\n",
    "FROM SingleGuideRNA AS s\n",
    "JOIN SgRNATargetInformation AS t\n",
    "ON s.SgID = t.SgID\n",
    "WHERE s.Exclude IS NULL AND t.PriID IN ({}) AND s.SgID NOT IN (\n",
    "SELECT OverlappingSgID FROM OverlappingSgRNAs);\"\"\".format(pri_str))\n",
    "    pri_dict = {}\n",
    "    for row in sg_rows:\n",
    "        if sql_version == \"MSSQL\":\n",
    "            pri = row.PriID\n",
    "            sg = row.SgID\n",
    "            score = row.MaxAzimuthScore\n",
    "        else:\n",
    "            pri, sg, score = row\n",
    "            pri = str(pri)\n",
    "        if pri not in pri_dict:\n",
    "            pri_dict[pri] = [(score, sg)]\n",
    "        else:\n",
    "            pri_dict[pri] += [(score, sg)]\n",
    "    \n",
    "    sg_list = []\n",
    "    for key, val in pri_dict.iteritems():\n",
    "        # sort by score\n",
    "        val = sorted(val, reverse=True)\n",
    "        # make sure have five sgRNAs per miRNA\n",
    "        if len(val) < 5:\n",
    "            print \"Something went wrong with PriID {}\".format(key)\n",
    "        else:\n",
    "            pri_sg_list = [sg for score, sg in val[:5]]\n",
    "            sg_list += pri_sg_list\n",
    "    \n",
    "    db_con.update_many_rows({\"InLibrary\": ['T']*len(sg_list)}, {\"SgID\": sg_list}, \"SingleGuideRNA\")\n",
    "    db_con.close_cursor()\n",
    "    db_con.close_connection()"
   ]
  },
  {
   "cell_type": "code",
   "execution_count": 7,
   "metadata": {},
   "outputs": [],
   "source": [
    "find_all(\"miR-test\", firewall=True)"
   ]
  },
  {
   "cell_type": "markdown",
   "metadata": {},
   "source": [
    "The number of sgRNAs per primary miRNA can then be fetched."
   ]
  },
  {
   "cell_type": "code",
   "execution_count": 8,
   "metadata": {},
   "outputs": [
    {
     "data": {
      "text/plain": [
       "(1599, 1)"
      ]
     },
     "execution_count": 8,
     "metadata": {},
     "output_type": "execute_result"
    }
   ],
   "source": [
    "db_con = dp.DatabaseConnection(\"MySQL\", db_name=\"miR-test\", firewall=True)\n",
    "df = db_con.fetch_query_as_df(\"\"\"SELECT t.PriID, COUNT(s.SgID) AS NumSg\n",
    "FROM (SELECT SgID FROM SingleGuideRNA WHERE InLibrary LIKE 'T') AS s \n",
    "JOIN SgRNATargetInformation AS t \n",
    "ON s.SgID = t.SgID\n",
    "GROUP BY t.PriID\n",
    "ORDER BY COUNT(s.SgID)\"\"\", \"PriID\")\n",
    "db_con.close_cursor()\n",
    "db_con.close_connection()\n",
    "\n",
    "df.shape"
   ]
  },
  {
   "cell_type": "code",
   "execution_count": 9,
   "metadata": {},
   "outputs": [
    {
     "data": {
      "text/plain": [
       "(1594, 1)"
      ]
     },
     "execution_count": 9,
     "metadata": {},
     "output_type": "execute_result"
    }
   ],
   "source": [
    "df[df[\"NumSg\"] >= 4].shape"
   ]
  },
  {
   "cell_type": "markdown",
   "metadata": {},
   "source": [
    "This results in 7382 sgRNAs targeting 1599 primary miRNAs (1594 with 4 or more sgRNAs)."
   ]
  }
 ],
 "metadata": {
  "kernelspec": {
   "display_name": "Python 2",
   "language": "python",
   "name": "python2"
  },
  "language_info": {
   "codemirror_mode": {
    "name": "ipython",
    "version": 2
   },
   "file_extension": ".py",
   "mimetype": "text/x-python",
   "name": "python",
   "nbconvert_exporter": "python",
   "pygments_lexer": "ipython2",
   "version": "2.7.9"
  }
 },
 "nbformat": 4,
 "nbformat_minor": 2
}
