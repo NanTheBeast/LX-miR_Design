{
 "cells": [
  {
   "cell_type": "markdown",
   "metadata": {},
   "source": [
    "# Cleave Site Position\n",
    "\n",
    "Once the genomic location of the cleavage site had been determined, where in the stem-loop the cleavage site fell was determined. Those cleavage sites which are outside of the stem-loop are marked as 'ext'. Those sgRNAs which cleave inside a mature miRNA are annotated 'miR', 'miR-5p' or 'miR-3p' depending on if the name of the mature miRNA includes the strand information. All other cleavage sites are marked 'other'. "
   ]
  },
  {
   "cell_type": "code",
   "execution_count": 1,
   "metadata": {},
   "outputs": [],
   "source": [
    "import data_processing as dp\n",
    "\n",
    "def find_cleavage(db_name, sql_version=\"MySQL\", firewall=False):\n",
    "    \"\"\"\n",
    "        Figures out where the sgRNA cleavage site falls in the miRNA\n",
    "    \"\"\"\n",
    "    db_con = dp.DatabaseConnection(sql_version, db_name=db_name, firewall=firewall)\n",
    "    \n",
    "    rows = db_con.fetch_query(\"\"\"SELECT t.SgID, t.CleaveStart, t.CleaveEnd, \n",
    "p.PriID, p.GenomeStart, p.GenomeEnd, \n",
    "m.MatID, m.MatMiRName, m.MatStart, m.MatEnd\n",
    "FROM SgRNATargetInformation AS t\n",
    "JOIN PrimaryMicroRNA AS p\n",
    "ON t.PriID = p.PriID\n",
    "JOIN MatureMicroRNA AS m\n",
    "ON p.PriID = m.PriID\"\"\")\n",
    "    \n",
    "    # keep track of already made annotations\n",
    "    anno_dict = {}\n",
    "    for row in rows:\n",
    "        if sql_version == \"MSSQL\":\n",
    "            sgID = row.SgID\n",
    "            c_start = row.CleaveStart\n",
    "            c_end = row.CleaveEnd\n",
    "            priID = row.PriID\n",
    "            p_start = row.GenomeStart\n",
    "            p_end = row.GenomeEnd\n",
    "            matID = row.MatID\n",
    "            matName = row.MatMiRName\n",
    "            m_start = row.MatStart\n",
    "            m_end = row.MatEnd\n",
    "        else:\n",
    "            sgID, c_start, c_end, priID, p_start, p_end, matID, matName, m_start, m_end = row\n",
    "            priID = str(priID)\n",
    "            matID = str(matID)\n",
    "        \n",
    "        # if cleavage site is outside stemloop, mark 'ext'\n",
    "        if c_start not in range(p_start, p_end+1) and c_end not in range(p_start, p_end+1):\n",
    "            # ext annotation should only be added if no other annotation is present\n",
    "            if (sgID, priID) not in anno_dict:\n",
    "                anno_dict[(sgID, priID)] = [\"ext\", None]\n",
    "            else:\n",
    "                pass\n",
    "        elif c_start not in range(m_start, m_end+1) and c_end not in range(m_start, m_end+1):\n",
    "            if (sgID, priID) not in anno_dict:\n",
    "                anno_dict[(sgID, priID)] = [\"other\", None]\n",
    "            # if the sgRNA is marked as extended, change to other\n",
    "            # only happens when same sg targets same miRNA twice\n",
    "            # ie sg14635, 13546, 26080 with MI0016783, 16832, 25911\n",
    "            elif anno_dict[(sgID, priID)][0] == \"ext\":\n",
    "                anno_dict[(sgID, priID)] = [\"other\", None]\n",
    "            else:\n",
    "                pass\n",
    "        else:\n",
    "            if \"3p\" in matName:\n",
    "                anno_dict[(sgID, priID)] = [\"miR-3p\", matID]\n",
    "            elif \"5p\" in matName:\n",
    "                anno_dict[(sgID, priID)] = [\"miR-5p\", matID]\n",
    "            else:\n",
    "                anno_dict[(sgID, priID)] = [\"miR\", matID]\n",
    "    \n",
    "    # reformat for update rows\n",
    "    site_dict = {\"CleavageSite\": [], \"MatID\": []}\n",
    "    sg_dict = {\"SgID\": [], \"PriID\": []}\n",
    "    for sg, pri in anno_dict:\n",
    "        sg_dict[\"SgID\"] += [sg]\n",
    "        sg_dict[\"PriID\"] += [pri]\n",
    "        site_dict[\"CleavageSite\"] += [anno_dict[(sg, pri)][0]]\n",
    "        site_dict[\"MatID\"] += [anno_dict[(sg, pri)][1]]\n",
    "        \n",
    "    db_con.update_many_rows(site_dict, sg_dict, \"SgRNATargetInformation\")\n",
    "    db_con.close_cursor()\n",
    "    db_con.close_connection()"
   ]
  },
  {
   "cell_type": "code",
   "execution_count": 2,
   "metadata": {},
   "outputs": [],
   "source": [
    "find_cleavage(\"miR-test\", firewall=True)"
   ]
  }
 ],
 "metadata": {
  "kernelspec": {
   "display_name": "Python 2",
   "language": "python",
   "name": "python2"
  },
  "language_info": {
   "codemirror_mode": {
    "name": "ipython",
    "version": 2
   },
   "file_extension": ".py",
   "mimetype": "text/x-python",
   "name": "python",
   "nbconvert_exporter": "python",
   "pygments_lexer": "ipython2",
   "version": "2.7.9"
  }
 },
 "nbformat": 4,
 "nbformat_minor": 2
}
