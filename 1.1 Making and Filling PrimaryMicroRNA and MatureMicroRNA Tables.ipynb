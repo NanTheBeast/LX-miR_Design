{
 "cells": [
  {
   "cell_type": "markdown",
   "metadata": {},
   "source": [
    "# Making PrimaryMicroRNA and MatureMicroRNA Tables\n",
    "\n",
    "The first step in making our database was to initialize two of the tables. The python package <a href=\"https://github.com/mkleehammer/pyodbc/wiki\">pyodbc</a> was used to connect to MS SQL Server database from python and <a href=\"https://www.mysql.com/products/connector/\">mysql.connector</a> was used to connect to MySQL database. All of the code for connecting and editing these databases is contained within my module data_processing."
   ]
  },
  {
   "cell_type": "code",
   "execution_count": 1,
   "metadata": {},
   "outputs": [],
   "source": [
    "import data_processing as dp\n",
    "\n",
    "def create_miR_tables(db_name, sql_version=\"MySQL\", firewall=False):\n",
    "    \"\"\"\n",
    "        Creates the PrimaryMicroRNA and MatureMicroRNA tables which will be filled in later\n",
    "        \n",
    "        Will check with user and re-create tables which already exist if user desires.\n",
    "    \"\"\"\n",
    "    db_con = dp.DatabaseConnection(sql_version, db_name=db_name, firewall=firewall)\n",
    "    db_con.make_table(\"PrimaryMicroRNA\", {\"PriMiRName\": [\"varchar(50)\", \"NOT NULL\"], \n",
    "                                      \"PriID\": [\"varchar(50)\", \"NOT NULL\"],\n",
    "                                      \"Chr\": [\"varchar(2)\"], \"GenomeStart\": [\"Int\"],\n",
    "                                      \"GenomeEnd\": [\"Int\"], \"ChrStrand\": [\"nchar(1)\"],\n",
    "                                      \"StemLoopSeq\": [\"varchar(200)\"], \"LongSeq\": [\"varchar(250)\"], \n",
    "                                      \"MiRFamily\": [\"varchar(50)\"], \"RNAfold\": [\"VARCHAR(200)\"],\n",
    "                                      \"HighConfidence\": [\"NCHAR(1)\"]},\n",
    "                  other_conditions=[\"PRIMARY KEY (PriID)\"])\n",
    "    \n",
    "    db_con.make_table(\"MatureMicroRNA\", {\"MatMiRName\": [\"VARCHAR(50)\", \"NOT NULL\"], \"MatID\": [\"VARCHAR(50)\", \"NOT NULL\"], \n",
    "                                     \"PriID\": [\"VARCHAR(50)\", \"NOT NULL\"], \"MatStart\": [\"INT\"], \"MatEnd\": [\"INT\"],\n",
    "                                     \"MatSeq\": [\"VARCHAR(50)\"]}, \n",
    "                  other_conditions=[\"PRIMARY KEY (MatID)\", \"FOREIGN KEY (PriID) REFERENCES PrimaryMicroRNA (PriID)\"])\n",
    "    db_con.close_cursor()\n",
    "    db_con.close_connection()"
   ]
  },
  {
   "cell_type": "code",
   "execution_count": 2,
   "metadata": {},
   "outputs": [
    {
     "name": "stdout",
     "output_type": "stream",
     "text": [
      "The table PrimaryMicroRNA already exists. Would you like to drop and recreate it? (Y/N)Y\n",
      "Deleting table PrimaryMicroRNA\n",
      "The table(s) [u'MatureMicroRNA'] have foreign key contstrants on table PrimaryMicroRNA. \n",
      "It is necessary to drop these tables to drop PrimaryMicroRNA. \n",
      "Would you like to continue and drop these tables? (Y/N)Y\n",
      "Table PrimaryMicroRNA sucessfully deleted\n",
      "Creating table PrimaryMicroRNA\n",
      "CREATE TABLE PrimaryMicroRNA (ChrStrand nchar(1),\n",
      "    PriID varchar(50) NOT NULL,\n",
      "    Chr varchar(2),\n",
      "    StemLoopSeq varchar(200),\n",
      "    HighConfidence NCHAR(1),\n",
      "    GenomeEnd Int,\n",
      "    PriMiRName varchar(50) NOT NULL,\n",
      "    GenomeStart Int,\n",
      "    RNAfold VARCHAR(200),\n",
      "    LongSeq varchar(250),\n",
      "    MiRFamily varchar(50),\n",
      "    PRIMARY KEY (PriID)) ENGINE=InnoDB;\n",
      "Sucessfully created table PrimaryMicroRNA\n",
      "Creating table MatureMicroRNA\n",
      "CREATE TABLE MatureMicroRNA (MatEnd INT,\n",
      "    MatSeq VARCHAR(50),\n",
      "    MatStart INT,\n",
      "    PriID VARCHAR(50) NOT NULL,\n",
      "    MatID VARCHAR(50) NOT NULL,\n",
      "    MatMiRName VARCHAR(50) NOT NULL,\n",
      "    PRIMARY KEY (MatID),\n",
      "    FOREIGN KEY (PriID) REFERENCES PrimaryMicroRNA (PriID)) ENGINE=InnoDB;\n",
      "Sucessfully created table MatureMicroRNA\n"
     ]
    }
   ],
   "source": [
    "create_miR_tables(\"miR-test\", firewall=True)"
   ]
  },
  {
   "cell_type": "markdown",
   "metadata": {},
   "source": [
    "# Importing Data from miRBase\n",
    "\n",
    "The tables were initially filled with known data about the miRNAs. \n",
    "\n",
    "The first file to be imported is the basic list of known primary and mature microRNAs. This data was downloaded from <a href=\"http://www.mirbase.org/ftp.shtml\">miRBase version 21</a>. \n",
    "\n",
    "## hsa.gff3 Import\n",
    "\n",
    "The hsa.gff3 file, which contains all of the human microRNAs and their genomic locations, was used to fill in the name, ID, chromosome, strand, genomic start and genomic end of the primary and mature miRNAs. It was also used to link the mature miRNAs to their corresponding primary miRNA. \n",
    "\n",
    "The hsa.gff3 file has format (for more gff3 file info see <a href=\"http://www.sequenceontology.org/gff3.shtml\">this site</a>): \n",
    "\n",
    "* <b>Column 1</b>: chromosome\n",
    "* <b>Column 2</b>: .\n",
    "* <b>Column 3</b>: miRNA_primary_transcript/miRNA\n",
    "* <b>Column 4</b>: genomic start (hg38)\n",
    "* <b>Column 5</b>: genomic end (hg38)\n",
    "* <b>Column 6</b>: .\n",
    "* <b>Column 7</b>: strand of the chromosome\n",
    "* <b>Column 8</b>: .\n",
    "* <b>Column 9</b>: attributes\n",
    "    * <b>ID</b>: accession number\n",
    "    * <b>Alias</b>: secondary accession number\n",
    "    * <b>Name</b>: miRNA name\n",
    "    * <b>Derives_from</b>: in the case of mature miRNAs, the corresponding primary miRNA accession number"
   ]
  },
  {
   "cell_type": "code",
   "execution_count": 1,
   "metadata": {},
   "outputs": [],
   "source": [
    "import re\n",
    "import data_processing as dp\n",
    "\n",
    "def import_microRNAs(hsaMiRLoc, db_name, sql_version=\"MySQL\", firewall=False):\n",
    "    \"\"\"\n",
    "        Adds the miRNAs and their genomic locations to a database\n",
    "    \"\"\"\n",
    "    \n",
    "    db_con = dp.DatabaseConnection(sql_version, db_name=db_name, firewall=firewall)\n",
    "        \n",
    "    # Clears both tables before beginning import\n",
    "    db_con.clear_table(\"MatureMicroRNA\")\n",
    "    db_con.clear_table(\"PrimaryMicroRNA\")\n",
    "\n",
    "    # Regular expression to find the pri-miR ID and name from the info string\n",
    "    priRE = re.compile('^ID=(MI[0-9]{7});.*?;Name=(.*?)$')\n",
    "    # Regular expression to find the mat-miR ID, mat-miR name and corresponding pri-miR from the info string\n",
    "    matRE = re.compile('^ID=(.*?);.*?;Name=(.*?);Derives_from=(MI[0-9]{7})$')\n",
    "    # Regular expression to find chromosome name\n",
    "    chrRE = re.compile('^chr(.*?)$')\n",
    "    \n",
    "    with open(hsaMiRLoc, \"r\") as miRFile:\n",
    "        pri_dict = {\"PriMiRName\": [], \"PriID\": [], \"Chr\": [], \"GenomeStart\": [], \"GenomeEnd\": [], \n",
    "                    \"ChrStrand\": []}\n",
    "        mat_dict = {\"MatID\": [], \"MatMiRName\": [], \"PriID\": [], \"MatStart\": [], \"MatEnd\": []}\n",
    "        for line in miRFile:\n",
    "            # Pass header lines\n",
    "            if line[0] == '#':\n",
    "                continue\n",
    "            \n",
    "            elements = line.split('\\t')\n",
    "            # If the miRNA is anotated as a primary miRNA\n",
    "            if elements[2] == 'miRNA_primary_transcript':\n",
    "                m = priRE.match(elements[8]) # The 9th element in the line includes several attibutes\n",
    "                priID = m.group(1)\n",
    "                priName = m.group(2)\n",
    "                m2 = chrRE.match(elements[0]) # Finds the chromosome number\n",
    "                chromosome = m2.group(1)\n",
    "                pri_dict[\"PriMiRName\"] += [priName]\n",
    "                pri_dict[\"PriID\"] += [priID]\n",
    "                pri_dict[\"Chr\"] += [chromosome]\n",
    "                pri_dict[\"GenomeStart\"] += [int(elements[3])]\n",
    "                pri_dict[\"GenomeEnd\"] += [int(elements[4])]\n",
    "                pri_dict[\"ChrStrand\"] += [elements[6]]\n",
    "\n",
    "            # If its a mature miRNA\n",
    "            else:\n",
    "                m = matRE.match(elements[8]) # The 9th element in the line includes several attibutes\n",
    "                matID = m.group(1)\n",
    "                matName = m.group(2)\n",
    "                priID = m.group(3)\n",
    "                mat_dict[\"MatID\"] += [matID]\n",
    "                mat_dict[\"MatMiRName\"] += [matName]\n",
    "                mat_dict[\"PriID\"] += [priID]\n",
    "                mat_dict[\"MatStart\"] += [int(elements[3])]\n",
    "                mat_dict[\"MatEnd\"] += [int(elements[4])]\n",
    "                \n",
    "        db_con.make_many_rows(pri_dict, \"PrimaryMicroRNA\")\n",
    "        db_con.make_many_rows(mat_dict, \"MatureMicroRNA\")\n",
    "    db_con.close_cursor()\n",
    "    db_con.close_connection()"
   ]
  },
  {
   "cell_type": "code",
   "execution_count": 2,
   "metadata": {},
   "outputs": [],
   "source": [
    "hsaMiRLoc = \"From miRBase/hsa.gff3.txt\"\n",
    "import_microRNAs(hsaMiRLoc, \"miR-test\", firewall=True)"
   ]
  },
  {
   "cell_type": "markdown",
   "metadata": {},
   "source": [
    "## miRNA Confidence Import\n",
    "\n",
    "Since many of the miRNA annotations, come from small RNA deep sequencing experiments and may not represent true miRNAs, miRBase includes a list of high confidence miRNAs. <a href=\"https://doi.org/10.1093/nar/gkt1181\">This paper</a> and <a href=\"http://www.mirbase.org/blog/2014/07/high-confidence-mirna-set-available-for-mirbase-21/\">this blog post</a> explain the details of how these miRNAs obtain a high confidence annotation. In general, deep sequencing experiments must show these miRNAs have:\n",
    "* \\>10 deep sequencing reads which map to each arm of the hairpin or >5 reads per arm and >100 total reads\n",
    "* Predicted mature miRNAs from each arm have 0 to 4-nt 3' overhangs, which result from Dicer and Drosha cleavage\n",
    "* \\>50% of the reads for each arm have same 5' end\n",
    "* Hairpin folding free energy < -0.2 kcal/mol/nt\n",
    "* \\>60% of predicted mature miRNAs base pair in the hairpin\n",
    "\n",
    "NOTE: Annotation of high confidence miRNAs is automated and has no relation to the number of studies which support the existance of the miRNA (i.e. hsa-mir-21 is not annotated as high confidence)\n",
    "\n",
    "Those primary miRNAs which are considered high confidence get a 'T' in the HighConfidence column. All other primary miRNAs will have 'NULL' in that column."
   ]
  },
  {
   "cell_type": "code",
   "execution_count": 1,
   "metadata": {},
   "outputs": [],
   "source": [
    "import data_processing as dp\n",
    "\n",
    "def import_high_conf(highConfFile, db_name, sql_version=\"MySQL\", firewall=False):\n",
    "    \"\"\"\n",
    "    Imports the high confidence miRNAs from miRBase v21\n",
    "    \"\"\"\n",
    "    db_con = dp.DatabaseConnection(sql_version, db_name=db_name, firewall=firewall)\n",
    "    \n",
    "    with open(highConfFile, \"r\") as f:\n",
    "        conf_dict = {\"HighConfidence\": []}\n",
    "        pri_dict = {\"PriID\": []}\n",
    "        for line in f:\n",
    "            # Only look at human high confidence miRNAs\n",
    "            if line[:5] == \">hsa-\":\n",
    "                elements = line.split(\" \")\n",
    "                priID = elements[1]\n",
    "                conf_dict[\"HighConfidence\"] += [\"T\"]\n",
    "                pri_dict[\"PriID\"] += [priID]\n",
    "    db_con.update_many_rows(conf_dict, pri_dict, \"PrimaryMicroRNA\")\n",
    "    db_con.close_cursor()\n",
    "    db_con.close_connection()"
   ]
  },
  {
   "cell_type": "code",
   "execution_count": 2,
   "metadata": {},
   "outputs": [],
   "source": [
    "highConfFile = \"From miRBase/high_conf_hairpin.fa\"\n",
    "import_high_conf(highConfFile, \"miR-test\", firewall=True)"
   ]
  },
  {
   "cell_type": "markdown",
   "metadata": {},
   "source": [
    "## miRNA Family Import\n",
    "\n",
    "Next, the information about which miRNAs belong to which family is added. The miFam.dat file was also downloaded from <a href=\"http://www.mirbase.org/ftp.shtml\">miRBase version 21</a> and converted into a text file using excel due to difference in how line breaks are handled in Linux vs Windows machines. This file includes a list of miRNAs for all species which belong to a given miRNA family. Each family of miRNAs is headed by *AC*, the family ID, *ID*, and the family name. The miRNAs which belong to that family are then list in the format *MI*, miRNA accession number and the miRNA name. After each family, a divider of *//* is included. The below code was used to fill in this information for the human primary miRNAs which belong to a known family of miRNAs."
   ]
  },
  {
   "cell_type": "code",
   "execution_count": 4,
   "metadata": {},
   "outputs": [],
   "source": [
    "import data_processing as dp\n",
    "\n",
    "def import_miR_family(famFile, db_name, sql_version=\"MySQL\", firewall=False):\n",
    "    \"\"\"\n",
    "        Imports the miRNA family data and fills in the PrimaryMicroRNA MiRFamily column\n",
    "    \"\"\"\n",
    "    db_con = dp.DatabaseConnection(sql_version, db_name=db_name, firewall=firewall)\n",
    "    \n",
    "    with open(famFile, \"r\") as f:\n",
    "        fam_dict ={\"MiRFamily\": []}\n",
    "        pri_dict = {\"PriID\": []}\n",
    "        for line in f:\n",
    "            elements = line.split('\\t')\n",
    "            # The family ID heads the group of miRNAs which belong to that family\n",
    "            if elements[0] == \"ID\":\n",
    "                family = elements[1]\n",
    "            # Only looks at human miRNAs\n",
    "            elif elements[0] == \"MI\" and \"hsa\" in elements[2]:\n",
    "                priID = elements[1]\n",
    "                fam_dict[\"MiRFamily\"] += [family]\n",
    "                pri_dict[\"PriID\"] += [priID]\n",
    "                \n",
    "    db_con.update_many_rows(fam_dict, pri_dict, \"PrimaryMicroRNA\")\n",
    "    db_con.close_cursor()\n",
    "    db_con.close_connection()"
   ]
  },
  {
   "cell_type": "code",
   "execution_count": 5,
   "metadata": {},
   "outputs": [],
   "source": [
    "famFile = \"From miRBase/miFam.txt\"\n",
    "import_miR_family(famFile, \"miR-test\", firewall=True)"
   ]
  }
 ],
 "metadata": {
  "kernelspec": {
   "display_name": "Python 2",
   "language": "python",
   "name": "python2"
  },
  "language_info": {
   "codemirror_mode": {
    "name": "ipython",
    "version": 2
   },
   "file_extension": ".py",
   "mimetype": "text/x-python",
   "name": "python",
   "nbconvert_exporter": "python",
   "pygments_lexer": "ipython2",
   "version": "2.7.9"
  }
 },
 "nbformat": 4,
 "nbformat_minor": 2
}
