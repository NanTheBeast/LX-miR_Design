{
 "cells": [
  {
   "cell_type": "markdown",
   "metadata": {},
   "source": [
    "# Make sgRNA Tables\n",
    "\n",
    "Two tables, SingleGuideRNA and SgRNATargetInformation, store the basic information about all of the possible miRNA targeting sgRNAs. The SingleGuideRNA table contains information which is not dependent on the genomic region surrounding the sgRNA, since the same sgRNA may target muliple miRNAs. The SgRNATargetInformation contains the information relavant to the target site, including which primary miRNA it is targeting. The code to create these tables is below."
   ]
  },
  {
   "cell_type": "code",
   "execution_count": 3,
   "metadata": {},
   "outputs": [],
   "source": [
    "import data_processing as dp\n",
    "\n",
    "def create_sgRNA_tables(db_name, sql_version=\"MySQL\", firewall=False):\n",
    "    \"\"\"\n",
    "        Creates the SgRNATargetInformation and SingleGuideRNA tables which will be filled in later\n",
    "    \"\"\"\n",
    "    # to ensure sgIDs are consistant between different databases, auto increment will not be used\n",
    "    db_con = dp.DatabaseConnection(sql_version, db_name=db_name, firewall=firewall)\n",
    "    \n",
    "    db_con.make_table(\"SingleGuideRNA\", {\"SgID\": [\"Int\", \"NOT NULL\"], \n",
    "                                         \"SgRNA\": [\"CHAR(20)\"], \n",
    "                                         \"Exclude\": [\"CHAR(1)\"], \n",
    "                                         \"ZhangLibrary\": [\"CHAR(1)\"], \n",
    "                                         \"ZhangScore\": [\"FLOAT\"],\n",
    "                                         \"CRISPRseek\": [\"FLOAT\"], \n",
    "                                         \"SgRNAScorer\": [\"FLOAT\"],\n",
    "                                         \"MaxDoenchScore\": [\"FLOAT\"],\n",
    "                                         \"MaxAzimuthScore\": [\"FLOAT\"], \n",
    "                                         \"NumExactMatch\": [\"INT\"],\n",
    "                                         \"hg38NumExactMatch\": [\"INT\"]}, \n",
    "                  other_conditions=[\"PRIMARY KEY (SgID)\"])\n",
    "    \n",
    "    db_con.make_table(\"SgRNATargetInformation\", {\"SgID\": [\"Int\", \"NOT NULL\"], \n",
    "                                             \"LongSg\": [\"CHAR(30)\"], \n",
    "                                             \"SgStart\": [\"INT\"], \n",
    "                                             \"SgEnd\": [\"INT\"], \n",
    "                                             \"SgChr\": [\"VARCHAR(2)\"], \n",
    "                                             \"SgStrand\": [\"CHAR(1)\"], \n",
    "                                             \"CleavageSite\": [\"VARCHAR(50)\"], \n",
    "                                             \"CleaveStart\": [\"INT\"],\n",
    "                                             \"CleaveEnd\": [\"INT\"],\n",
    "                                             \"PriID\": [\"VARCHAR(50)\", \"NOT NULL\"],\n",
    "                                             \"MatID\": [\"VARCHAR(50)\"],\n",
    "                                             \"PAM\": [\"CHAR(3)\"],\n",
    "                                             \"AzimuthScore\": [\"FLOAT\"],\n",
    "                                             \"DoenchScore\": [\"FLOAT\"]}, \n",
    "                  other_conditions=[\"FOREIGN KEY(SgID) REFERENCES SingleGuideRNA(SgID)\", \n",
    "                                    \"FOREIGN KEY(PriID) REFERENCES PrimaryMicroRNA(PriID)\", \n",
    "                                    \"FOREIGN KEY(MatID) REFERENCES MatureMicroRNA(MatID)\"])\n",
    "    db_con.close_cursor()\n",
    "    db_con.close_connection()"
   ]
  },
  {
   "cell_type": "code",
   "execution_count": 4,
   "metadata": {},
   "outputs": [
    {
     "name": "stdout",
     "output_type": "stream",
     "text": [
      "The table SingleGuideRNA already exists. Would you like to drop and recreate it? (Y/N)Y\n",
      "Deleting table SingleGuideRNA\n",
      "The table(s) [u'SgRNATargetInformation'] have foreign key contstrants on table SingleGuideRNA. \n",
      "It is necessary to drop these tables to drop SingleGuideRNA. \n",
      "Would you like to continue and drop these tables? (Y/N)Y\n",
      "Table SingleGuideRNA sucessfully deleted\n",
      "Creating table SingleGuideRNA\n",
      "CREATE TABLE SingleGuideRNA (ZhangScore FLOAT,\n",
      "    SgRNAScorer FLOAT,\n",
      "    SgID Int NOT NULL,\n",
      "    NumExactMatch INT,\n",
      "    MaxAzimuthScore FLOAT,\n",
      "    SgRNA CHAR(20),\n",
      "    MaxDoenchScore FLOAT,\n",
      "    hg38NumExactMatch INT,\n",
      "    Exclude CHAR(1),\n",
      "    ZhangLibrary CHAR(1),\n",
      "    CRISPRseek FLOAT,\n",
      "    PRIMARY KEY (SgID)) ENGINE=InnoDB;\n",
      "Sucessfully created table SingleGuideRNA\n",
      "Creating table SgRNATargetInformation\n",
      "CREATE TABLE SgRNATargetInformation (SgStrand CHAR(1),\n",
      "    LongSg CHAR(30),\n",
      "    AzimuthScore FLOAT,\n",
      "    CleaveStart INT,\n",
      "    PriID VARCHAR(50) NOT NULL,\n",
      "    SgStart INT,\n",
      "    PAM CHAR(3),\n",
      "    SgChr VARCHAR(2),\n",
      "    DoenchScore FLOAT,\n",
      "    MatID VARCHAR(50),\n",
      "    CleaveEnd INT,\n",
      "    CleavageSite VARCHAR(50),\n",
      "    SgEnd INT,\n",
      "    SgID Int NOT NULL,\n",
      "    FOREIGN KEY(SgID) REFERENCES SingleGuideRNA(SgID),\n",
      "    FOREIGN KEY(PriID) REFERENCES PrimaryMicroRNA(PriID),\n",
      "    FOREIGN KEY(MatID) REFERENCES MatureMicroRNA(MatID)) ENGINE=InnoDB;\n",
      "Sucessfully created table SgRNATargetInformation\n"
     ]
    }
   ],
   "source": [
    "create_sgRNA_tables(\"miR-test\", firewall=True)"
   ]
  }
 ],
 "metadata": {
  "kernelspec": {
   "display_name": "Python 2",
   "language": "python",
   "name": "python2"
  },
  "language_info": {
   "codemirror_mode": {
    "name": "ipython",
    "version": 2
   },
   "file_extension": ".py",
   "mimetype": "text/x-python",
   "name": "python",
   "nbconvert_exporter": "python",
   "pygments_lexer": "ipython2",
   "version": "2.7.9"
  }
 },
 "nbformat": 4,
 "nbformat_minor": 2
}
