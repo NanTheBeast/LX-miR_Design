{
 "cells": [
  {
   "cell_type": "markdown",
   "metadata": {},
   "source": [
    "# Figure Out Stem-loop Structure\n",
    "\n",
    "In order to help determine where in the miRNA sgRNAs cut, we added the RNAfold secondary structure for each miRNA. The input for RNAfold is a fasta file with the stem-loop sequence to fold which was created using the below code."
   ]
  },
  {
   "cell_type": "code",
   "execution_count": 1,
   "metadata": {},
   "outputs": [],
   "source": [
    "import data_processing as dp\n",
    "\n",
    "def output_stem_fasta(db_name, sql_version=\"MySQL\", firewall=False):\n",
    "    \"\"\"\n",
    "        Creates a fasta file with all of the primary miRNA stemloop sequences\n",
    "    \"\"\"\n",
    "    db_con = dp.DatabaseConnection(sql_version, db_name=db_name, firewall=firewall)\n",
    "    \n",
    "    rows = db_con.fetch_query(\"SELECT PriMiRName, StemLoopSeq FROM PrimaryMicroRNA;\")\n",
    "    with open('miRLoopSeqFile.fa', 'w') as fout:\n",
    "        for row in rows:\n",
    "            if sql_version == \"MSSQL\":\n",
    "                name = row.PriMiRName\n",
    "                seq = row.StemLoopSeq\n",
    "            else:\n",
    "                name, seq = row\n",
    "            \n",
    "            output = \">{}\\n{}\\n\".format(name, seq)\n",
    "            fout.write(output)\n",
    "    db_con.close_cursor()\n",
    "    db_con.close_connection()"
   ]
  },
  {
   "cell_type": "code",
   "execution_count": 2,
   "metadata": {},
   "outputs": [],
   "source": [
    "output_stem_fasta(\"miR-test\", firewall=True)"
   ]
  },
  {
   "cell_type": "markdown",
   "metadata": {},
   "source": [
    "The RNAfold dot-bracket structure for each miRNA stemloop was caluclated using the ViennaRNA package (installed from <a href=\"http://www.tbi.univie.ac.at/RNA/\">here</a>). The RNAfold program (Documentation <a href=\"https://www.tbi.univie.ac.at/RNA/RNAfold.1.html\">here</a>) was used to predict the secondary structure of the stemloop primary miRNA sequence. Since the miRBase website does not provide any additional information about the parameters used to determine the secondary structure of the miRNA stemloops (only that they used RNAfold, see <a href=\"http://www.mirbase.org/help/search.shtml\">Search Q&amp;A</a>), no constraints on folding were used. \n",
    "\n",
    "The miRNA stem-loop sequence file created above was moved into the same folder RNAfold was installed in."
   ]
  },
  {
   "cell_type": "code",
   "execution_count": 3,
   "metadata": {},
   "outputs": [
    {
     "name": "stdout",
     "output_type": "stream",
     "text": [
      "C:\\Program Files (x86)\\ViennaRNA Package\n"
     ]
    }
   ],
   "source": [
    "%cd \"C:/Program Files (x86)/ViennaRNA Package/\"\n",
    "!RNAfold --noPS < miRLoopSeqFile.fa > miRSecStructure.txt"
   ]
  },
  {
   "cell_type": "markdown",
   "metadata": {},
   "source": [
    "The predicted structures were then imported into the database."
   ]
  },
  {
   "cell_type": "code",
   "execution_count": 4,
   "metadata": {},
   "outputs": [],
   "source": [
    "import data_processing as dp\n",
    "\n",
    "def import_RNAfold(fold_file, db_name, sql_version=\"MySQL\", firewall=False):\n",
    "    \"\"\"\n",
    "        Imports the primary miRNA RNA fold data and fills in the PrimaryMicroRNA RNAfold column\n",
    "        \n",
    "        fold_file: File with RNAfold secondary structure created by ViennaRNA RNAfold --noPS\n",
    "        db_name: name of the database to connect to\n",
    "        sql_version [optional]: version of SQL of the database (ie MSSQL or MySQL); default: MySQL\n",
    "        firewall [optional]: if behind a firewall, will use ssh tunneling to connect to database; default: False\n",
    "    \"\"\"\n",
    "    db_con = dp.DatabaseConnection(sql_version, db_name=db_name, firewall=firewall)\n",
    "    \n",
    "    fold_dict = {\"RNAfold\": []}\n",
    "    pri_dict = {\"PriMiRName\": []}\n",
    "    with open(fold_file, \"r\") as f:\n",
    "        for line in f:\n",
    "            # The name line is denoted by '>'\n",
    "            if line[0] == \">\":\n",
    "                miRName = line.strip(\"\\n\")[1:]\n",
    "            # Skip the line with the RNA sequence\n",
    "            elif line[0] in \"AUCG\":\n",
    "                continue\n",
    "            else:\n",
    "                dotFold = line.split(\" \")[0] # Removes the minimum free energy, leaving the structure\n",
    "                fold_dict[\"RNAfold\"] += [dotFold]\n",
    "                pri_dict[\"PriMiRName\"] += [miRName]\n",
    "    db_con.update_many_rows(fold_dict, pri_dict, \"PrimaryMicroRNA\")\n",
    "    db_con.close_cursor()\n",
    "    db_con.close_connection()"
   ]
  },
  {
   "cell_type": "code",
   "execution_count": 5,
   "metadata": {},
   "outputs": [],
   "source": [
    "import_RNAfold(\"miRSecStructure.txt\", \"miR-test\", firewall=True)"
   ]
  }
 ],
 "metadata": {
  "kernelspec": {
   "display_name": "Python 2",
   "language": "python",
   "name": "python2"
  },
  "language_info": {
   "codemirror_mode": {
    "name": "ipython",
    "version": 2
   },
   "file_extension": ".py",
   "mimetype": "text/x-python",
   "name": "python",
   "nbconvert_exporter": "python",
   "pygments_lexer": "ipython2",
   "version": "2.7.9"
  }
 },
 "nbformat": 4,
 "nbformat_minor": 2
}
