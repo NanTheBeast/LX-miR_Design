{
 "cells": [
  {
   "cell_type": "markdown",
   "metadata": {},
   "source": [
    "# Zhang Library sgRNAs\n",
    "\n",
    "The second version  of the Zhang library (GeCKOv2) includes sgRNAs targeting human 1,864 miRNAs. Those sgRNAs which are included in GeCKOv2 are annotated as ZhangLibrary 'T'. The sgRNAs from GeCKOv2 were downloaded from <a href=\"http://genome-engineering.org/gecko/?page_id=15\">here</a>."
   ]
  },
  {
   "cell_type": "code",
   "execution_count": 1,
   "metadata": {},
   "outputs": [],
   "source": [
    "import data_processing as dp\n",
    "\n",
    "def zhang_library(library_file, db_name, sql_version=\"MySQL\", firewall=False):\n",
    "    \"\"\"\n",
    "        Annotates miRNA targeting sgRNAs which are in the Zhang Lab's GeCKOv2 Library\n",
    "    \"\"\"\n",
    "    sg_dict = {\"SgRNA\": []}\n",
    "    # Need 'rU' because for some reason newline is '\\r' in file\n",
    "    with open(library_file, \"rU\") as fin:\n",
    "        for line in fin:\n",
    "            if line[:3] == \"hsa\":\n",
    "                ele = line.strip(\"\\n\").split(\",\")\n",
    "                sg_dict[\"SgRNA\"] += [ele[2]]\n",
    "    num_sgs = len(sg_dict[\"SgRNA\"])\n",
    "    lib_dict = {\"ZhangLibrary\": [\"T\"]*num_sgs}\n",
    "    \n",
    "    db_con = dp.DatabaseConnection(sql_version, db_name=db_name, firewall=firewall)\n",
    "    db_con.update_many_rows(lib_dict, sg_dict, \"SingleGuideRNA\")\n",
    "    db_con.close_cursor()\n",
    "    db_con.close_connection()\n",
    "    return sg_dict"
   ]
  },
  {
   "cell_type": "code",
   "execution_count": 2,
   "metadata": {},
   "outputs": [],
   "source": [
    "zhang_dict = zhang_library(\"Published Libraries\\Human_GeCKOv2_Library_A_09Mar2015.csv\", \"miR-test\", firewall=True)"
   ]
  },
  {
   "cell_type": "markdown",
   "metadata": {},
   "source": [
    "We can then make sure all of the Zhang sgRNAs are in our database of sgRNAs. "
   ]
  },
  {
   "cell_type": "code",
   "execution_count": 4,
   "metadata": {},
   "outputs": [
    {
     "data": {
      "text/plain": [
       "['CGGCTCAGCCCAGATCAGCC',\n",
       " 'AAAATTATTGTAGTGTGTGT',\n",
       " 'AATGACCCGGCCTTGGGGTG',\n",
       " 'ATACGGAATATATATATATA',\n",
       " 'ATATACGGAATATATATATA',\n",
       " 'GAGCTGAGCTGGGCTGAGCT',\n",
       " 'GAGTTGAGCCAGGCTGATCT',\n",
       " 'CAATATTTTAAGGAATGACC',\n",
       " 'GGGCTGGGCTGAGTTGAGCC',\n",
       " 'TCCGACTCATCAATATTTTA',\n",
       " 'GGTCGCGGGCCCATTAGCTG',\n",
       " 'AAAATTATTGTAGTGTTTGT',\n",
       " 'TGGAGGGGTTGTCAGAGCTG',\n",
       " 'GAAAATTATTGTAGTGTGTG',\n",
       " 'GCAGCTCAGTACAGGATACT',\n",
       " 'GTATACGGAATATATATATA',\n",
       " 'ATATATACGGAATATGTATA',\n",
       " 'ATATATATGGAATGTATATA']"
      ]
     },
     "execution_count": 4,
     "metadata": {},
     "output_type": "execute_result"
    }
   ],
   "source": [
    "db_con = dp.DatabaseConnection(\"MySQL\", db_name=\"miR-test\", firewall=True)\n",
    "rows = db_con.fetch_query(\"SELECT SgRNA FROM SingleGuideRNA WHERE ZhangLibrary LIKE 'T';\")\n",
    "db_con.close_cursor()\n",
    "db_con.close_connection()\n",
    "\n",
    "my_sgs = []\n",
    "for row in rows:\n",
    "    sg, = row\n",
    "    my_sgs += [sg]\n",
    "not_in = filter(lambda x: x not in my_sgs, zhang_dict[\"SgRNA\"])\n",
    "# set removes duplicates\n",
    "list(set(not_in))"
   ]
  },
  {
   "cell_type": "markdown",
   "metadata": {},
   "source": [
    "The sgRNAs which are not in our library are no longer valid after the change from hg19 to hg38.\n",
    "\n",
    "* 'CGGCTCAGCCCAGATCAGCC', 'GAGTTGAGCCAGGCTGATCT' and 'GGGCTGGGCTGAGTTGAGCC-AGG' are supposed to target mir-4538 (chr14), but has changed to 'CGGCTCAGCCCAGATCAG<b>T</b>C',  'GAGTTGAGCCAG<b>A</b>CTGATCT' and 'GGGCTGGGCTGAGTTGAGCC-AG<b>A</b>'\n",
    "* 'AAAATTATTGTAGTGTGTGT' is supposed to target miR-3118-1 (chr21), but has changed 'AAAATT<b>G</b>TT<b>C</b>TAGTGTGTGT'\n",
    "* 'AATGACCCGGCCTTGGGGTG', 'CAATATTTTAAGGAATGACC', 'TCCGACTCATCAATATTTTA' and 'GGTCGCGGGCCCATTAGCTG' are supposed to target mir-4285 (chr7), but has changed to 'AATGACCCGGCC<b>C</b>TGGGGTG',  '<b>A</b>AATATTTTAAGGAATGACC', 'TCCGACTCAT<b>A</b>AATATTTTA' and 'GGTCGCGGGCCCATTAG---'\n",
    "* 'GAGCTGAGCTGGGCTGAGCT' is supposed to target mir-4539 (chr14), but has changed to 'GAGCTGA<b>A</b>CTGGGCTGAGCT'\n",
    "* 'AAAATTATTGTAGTGTTTGT' is supposed to target mir-3118-2, 'AAAATTATTGTAGT<b>A</b>TGTGT' \n",
    "* 'TGGAGGGGTTGTCAGAGCTG-CGG' is supposed to target mir-6730, 'TGGAGGGGTTGTCAGAGCTG-C<b>A</b>G'\n",
    "* 'GAAAATTATTGTAGTGTGTG' is supposed to target mir-3118-3 (chr15), 'GAAAATTATTGTAGT<b>A</b>TGTG'\n",
    "* 'GCAGCTCAGTACAGGATACT' is supposed to target mir-486, 'GCAGCTCAGTACAGGATA<b><u>C</u></b>CT'\n",
    "* 'ATATACGGAATATATATATA', 'ATATATACGGAATATGTATA' and 'GTATACGGAATATATATATA'  target mir-3669 which has been removed from miRBase"
   ]
  }
 ],
 "metadata": {
  "kernelspec": {
   "display_name": "Python 2",
   "language": "python",
   "name": "python2"
  },
  "language_info": {
   "codemirror_mode": {
    "name": "ipython",
    "version": 2
   },
   "file_extension": ".py",
   "mimetype": "text/x-python",
   "name": "python",
   "nbconvert_exporter": "python",
   "pygments_lexer": "ipython2",
   "version": "2.7.9"
  }
 },
 "nbformat": 4,
 "nbformat_minor": 2
}
