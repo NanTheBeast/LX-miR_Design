{
 "cells": [
  {
   "cell_type": "markdown",
   "metadata": {},
   "source": [
    "# sgRNA Oligos\n",
    "\n",
    "Once the sgRNAs for the pool and the control sgRNAs are selected, the InPool table was created and filled with the oligo sequences."
   ]
  },
  {
   "cell_type": "code",
   "execution_count": null,
   "metadata": {},
   "outputs": [],
   "source": [
    "import data_processing as dp\n",
    "\n",
    "def make_inpool(db_name, sql_version=\"MySQL\", firewall=False):\n",
    "    \"\"\"\n",
    "        Makes InPool table and fills with oligo sequences\n",
    "    \"\"\"\n",
    "    db_con = dp.DatabaseConnection(sql_version, db_name=db_name, firewall=firewall)\n",
    "    \n",
    "    db_con.make_table(\"InPool\", {\"SgID\": [\"INT\"], \"SgRNAName\": [\"VARCHAR(50)\"], \"OligoSeq\": [\"CHAR(85)\"]},\n",
    "                      [\"FOREIGN KEY(SgID) REFERENCES SingleGuideRNA(SgID)\", \n",
    "                       \"FOREIGN KEY(SgRNAName) REFERENCES ControlSgRNA(SgRNAName)\"])\n",
    "    \n",
    "    control_rows = db_con.fetch_query(\"SELECT SgRNAName, SgRNA FROM ControlSgRNA\") \n",
    "    \n",
    "    sgrna_rows = db_con.fetch_query(\"SELECT SgID, SgRNA FROM SingleGuideRNA WHERE InLibrary LIKE 'T'\") \n",
    "    \n",
    "    insert_dict = {\"SgID\": [], \"SgRNAName\": [], \"OligoSeq\": []}\n",
    "    \n",
    "    # Along with filling in the database, also create file to order oligos and csv file to hold sgRNA information\n",
    "    oligo_file = \"miRNAome_sgRNA_oligos.txt\"\n",
    "    library_file = \"Libray_sgRNAs.csv\"\n",
    "    with open(oligo_file, \"w\") as oligo_out, open(library_file, \"w\") as sgRNA_out:\n",
    "        # write header row\n",
    "        sgRNA_out.write(\"SgID,SgRNAName,SgRNA\\n\")\n",
    "        for row in control_rows:\n",
    "            if sql_version == \"MSSQL\":\n",
    "                name = row.SgRNAName\n",
    "                sg = row.SgRNA\n",
    "            else:\n",
    "                name, sg = row\n",
    "                name = str(name)\n",
    "                sg = str(sg)\n",
    "\n",
    "            # Pieces necessary for PCR amplification\n",
    "            upstream = \"TCTTGTGGAAAGGACGAAACACC\"\n",
    "            downstream = \"GTTTTAGAGCTAGAAATAGCAAGTTAAAATAAGGCTAGTCCG\"\n",
    "\n",
    "            # Make sure all the sgRNAs start with G, else GX19NGG\n",
    "            if sg[0] != \"G\":\n",
    "                sg = \"G\" + sg[1:]\n",
    "            oligo = \"{}{}{}\".format(upstream, sg, downstream)\n",
    "\n",
    "            insert_dict[\"SgID\"] += [None]\n",
    "            insert_dict[\"SgRNAName\"] += [name]\n",
    "            insert_dict[\"OligoSeq\"] += [oligo]\n",
    "            \n",
    "            # add to files\n",
    "            oligo_out.write(\"{}\\n\".format(oligo))\n",
    "            sgRNA_out.write(\"{},{},{}\\n\".format(None, name, sg))\n",
    "\n",
    "        for row in sgrna_rows:\n",
    "            if sql_version == \"MSSQL\":\n",
    "                sgID = row.SgID\n",
    "                sg = row.SgRNA\n",
    "            else:\n",
    "                sgID, sg = row\n",
    "                sg = str(sg)\n",
    "\n",
    "            # Pieces necessary for PCR amplification\n",
    "            upstream = \"TCTTGTGGAAAGGACGAAACACC\"\n",
    "            downstream = \"GTTTTAGAGCTAGAAATAGCAAGTTAAAATAAGGCTAGTCCG\"\n",
    "\n",
    "            # Make sure all the sgRNAs start with G, else GX19NGG\n",
    "            if sg[0] != \"G\":\n",
    "                sg = \"G\" + sg[1:]\n",
    "            oligo = \"{}{}{}\".format(upstream, sg, downstream)\n",
    "\n",
    "            insert_dict[\"SgID\"] += [sgID]\n",
    "            insert_dict[\"SgRNAName\"] += [None]\n",
    "            insert_dict[\"OligoSeq\"] += [oligo]\n",
    "            \n",
    "            # add to files\n",
    "            oligo_out.write(\"{}\\n\".format(oligo))\n",
    "            sgRNA_out.write(\"{},{},{}\\n\".format(sgID, None, sg))\n",
    "    \n",
    "    db_con.make_many_rows(insert_dict, \"InPool\")\n",
    "    db_con.close_cursor()\n",
    "    db_con.close_connection()"
   ]
  },
  {
   "cell_type": "code",
   "execution_count": null,
   "metadata": {},
   "outputs": [],
   "source": [
    "make_inpool(\"miR-test\", firewall=True)"
   ]
  }
 ],
 "metadata": {
  "kernelspec": {
   "display_name": "Python 2",
   "language": "python",
   "name": "python2"
  },
  "language_info": {
   "codemirror_mode": {
    "name": "ipython",
    "version": 2
   },
   "file_extension": ".py",
   "mimetype": "text/x-python",
   "name": "python",
   "nbconvert_exporter": "python",
   "pygments_lexer": "ipython2",
   "version": "2.7.9"
  }
 },
 "nbformat": 4,
 "nbformat_minor": 2
}
