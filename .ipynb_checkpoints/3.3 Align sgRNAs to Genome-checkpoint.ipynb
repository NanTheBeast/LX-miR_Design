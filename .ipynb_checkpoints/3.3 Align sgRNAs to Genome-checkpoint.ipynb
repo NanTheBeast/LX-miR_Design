{
 "cells": [
  {
   "cell_type": "markdown",
   "metadata": {},
   "source": [
    "# Align to Genome\n",
    "\n",
    "To find the number of exact matches in the genome for each sgRNA, the sgRNAs were aligned to hg19 (DIDN'T USE hg38 originally, which will change classification of 63 sgRNAs targeting 29 miRNAs) using bowtie. \n",
    "\n",
    "First, the sgRNA sequences were fetched to create a fasta file."
   ]
  },
  {
   "cell_type": "code",
   "execution_count": null,
   "metadata": {},
   "outputs": [],
   "source": [
    "import data_processing as dp\n",
    "\n",
    "def export_sgRNA_fastq(out_file, db_name, sql_version=\"MySQL\", firewall=False):\n",
    "    \"\"\"\n",
    "        Exports a list of sgRNAs in fastq format for alignment in bowtie\n",
    "    \"\"\"\n",
    "    db_con = dp.DatabaseConnection(sql_version, db_name=db_name, firewall=firewall)\n",
    "    rows = db_con.fetch_query(\"SELECT SgID, SgRNA FROM SingleGuideRNA\")\n",
    "    db_con.close_cursor()\n",
    "    db_con.close_connection()\n",
    "    with open(out_file, \"w\") as fout:\n",
    "        for row in rows:\n",
    "            if sql_version == \"MSSQL\":\n",
    "                sgID = row.SgID\n",
    "                sgRNA = row.SgRNA\n",
    "            else:\n",
    "                sgID, sgRNA = row\n",
    "            fout.write(\"@sgRNA-{}\\n{}NGG\\n+\\nJJJJJJJJJJJJJJJJJJJJJJJ\\n\".format(sgID, sgRNA))"
   ]
  },
  {
   "cell_type": "code",
   "execution_count": null,
   "metadata": {},
   "outputs": [],
   "source": [
    "export_sgRNA_fastq(\"Align sgRNAs/miR_sgRNAs.fastq\", \"miR-test\", firewall=True)"
   ]
  },
  {
   "cell_type": "markdown",
   "metadata": {},
   "source": [
    "The reads were then aligned."
   ]
  },
  {
   "cell_type": "code",
   "execution_count": null,
   "metadata": {},
   "outputs": [],
   "source": [
    "import data_processing.trim_align as ta\n",
    "\n",
    "def align_sgRNAs(fileloc, logfile, genomeloc, outputdir):\n",
    "    \"\"\"\n",
    "        Aligns the sgRNAs to the human genome\n",
    "        using Bowtie. Only one mismatch (-v 1) due to ambiguous characters\n",
    "        is allowed. Reports all alignments (-a). Uses 8 processors (-p 8)\n",
    "    \"\"\"\n",
    "    sampleName = \"miR_sgRNAs\"\n",
    "    # set up instance, log and server connection\n",
    "    obj = ta.TrimAndAlign(logfile)\n",
    "    \n",
    "    obj.fileToServer(fileloc, sampleName, \".fastq\")\n",
    "    obj.align_bowtie(sampleName, genomeloc, options=\" -v 1 -a -p 8\")\n",
    "    sampleName += \"_bowtie-aligned\"\n",
    "    \n",
    "    obj.fileFromServer(outputdir, sampleName, \".sam\")"
   ]
  },
  {
   "cell_type": "code",
   "execution_count": null,
   "metadata": {},
   "outputs": [],
   "source": [
    "align_sgRNAs(\"Align sgRNAs/miR_sgRNAs.fastq\", \n",
    "             \"Align sgRNAs/Align miR sgRNAs Log.log\", \n",
    "             \"../UCSC/hg19/bowtie-indexes/hg19\", \"Align sgRNAs/\")"
   ]
  },
  {
   "cell_type": "markdown",
   "metadata": {},
   "source": [
    "## Import Aligned Reads\n",
    "\n",
    "The aligned reads were then processed to find the number of exact matches per sgRNA."
   ]
  },
  {
   "cell_type": "code",
   "execution_count": null,
   "metadata": {},
   "outputs": [],
   "source": [
    "import data_processing as dp\n",
    "\n",
    "def import_aligned_reads(sam_file, db_name, sql_version=\"MySQL\", firewall=False):\n",
    "    \"\"\"\n",
    "        Import the number of alignments per sgRNA\n",
    "    \"\"\"\n",
    "    db_con = dp.DatabaseConnection(sql_version, db_name=db_name, firewall=firewall)\n",
    "    # set column to 0\n",
    "    db_con.update_row({\"NumExactMatch\": 0}, {}, \"SingleGuideRNA\")\n",
    "    \n",
    "    match_dict = {}\n",
    "    with open(sam_file, \"r\") as f:\n",
    "        for line in f:\n",
    "            # skip header lines\n",
    "            if line[0] != '@':\n",
    "                elements = line.split('\\t')\n",
    "                sgID = int(elements[0].lstrip('sgRNA-'))\n",
    "                if sgID in match_dict:\n",
    "                    match_dict[sgID] += 1\n",
    "                else:\n",
    "                    match_dict[sgID] = 1\n",
    "    sg_dict = {\"SgID\": []}\n",
    "    exact = {\"NumExactMatch\": []}\n",
    "    for key, val in match_dict.iteritems():\n",
    "        sg_dict[\"SgID\"] += [key]\n",
    "        exact[\"NumExactMatch\"] += [val]\n",
    "    db_con.update_many_rows(exact, sg_dict, \"SingleGuideRNA\")\n",
    "    db_con.close_cursor()\n",
    "    db_con.close_connection()"
   ]
  },
  {
   "cell_type": "code",
   "execution_count": null,
   "metadata": {},
   "outputs": [],
   "source": [
    "import_aligned_reads(\"Align sgRNAs/miR_sgRNAs_bowtie-aligned.sam\", \"miR-test\", firewall=True)"
   ]
  },
  {
   "cell_type": "markdown",
   "metadata": {},
   "source": [
    "## hg38 Alignment\n",
    "\n",
    "The sgRNAs can also be aligned to hg38."
   ]
  },
  {
   "cell_type": "code",
   "execution_count": null,
   "metadata": {},
   "outputs": [],
   "source": [
    "align_sgRNAs(\"Align sgRNAs/miR_sgRNAs.fastq\", \n",
    "             \"Align sgRNAs/Align hg38 miR sgRNAs Log.log\", \n",
    "             \"../UCSC/hg38/Sequence/BowtieIndex/genome\", \"Align sgRNAs/hg38/\")"
   ]
  },
  {
   "cell_type": "markdown",
   "metadata": {},
   "source": [
    "## Import hg38 Alignment\n",
    "\n",
    "The hg38 read alignment was then imported into the column: 'hg38NumExactMatch'."
   ]
  },
  {
   "cell_type": "code",
   "execution_count": null,
   "metadata": {},
   "outputs": [],
   "source": [
    "import data_processing as dp\n",
    "\n",
    "def import_aligned_reads_hg38(sam_file, db_name, sql_version=\"MySQL\", firewall=False):\n",
    "    \"\"\"\n",
    "        Import the number of alignments per sgRNA\n",
    "    \"\"\"\n",
    "    db_con = dp.DatabaseConnection(sql_version, db_name=db_name, firewall=firewall)\n",
    "    # set column to 0\n",
    "    db_con.update_row({\"hg38NumExactMatch\": 0}, {}, \"SingleGuideRNA\")\n",
    "    \n",
    "    match_dict = {}\n",
    "    with open(sam_file, \"r\") as f:\n",
    "        for line in f:\n",
    "            # skip header lines\n",
    "            if line[0] != '@':\n",
    "                elements = line.split('\\t')\n",
    "                sgID = int(elements[0].lstrip('sgRNA-'))\n",
    "                if sgID in match_dict:\n",
    "                    match_dict[sgID] += 1\n",
    "                else:\n",
    "                    match_dict[sgID] = 1\n",
    "    sg_dict = {\"SgID\": []}\n",
    "    exact = {\"hg38NumExactMatch\": []}\n",
    "    for key, val in match_dict.iteritems():\n",
    "        sg_dict[\"SgID\"] += [key]\n",
    "        exact[\"hg38NumExactMatch\"] += [val]\n",
    "    \n",
    "    db_con.update_many_rows(exact, sg_dict, \"SingleGuideRNA\")\n",
    "    db_con.close_cursor()\n",
    "    db_con.close_connection()"
   ]
  },
  {
   "cell_type": "code",
   "execution_count": null,
   "metadata": {},
   "outputs": [],
   "source": [
    "import_aligned_reads(\"Align sgRNAs/hg38/miR_sgRNAs_bowtie-aligned.sam\", \"miR-test\", firewall=True)"
   ]
  }
 ],
 "metadata": {
  "kernelspec": {
   "display_name": "Python 2",
   "language": "python",
   "name": "python2"
  },
  "language_info": {
   "codemirror_mode": {
    "name": "ipython",
    "version": 2
   },
   "file_extension": ".py",
   "mimetype": "text/x-python",
   "name": "python",
   "nbconvert_exporter": "python",
   "pygments_lexer": "ipython2",
   "version": "2.7.9"
  }
 },
 "nbformat": 4,
 "nbformat_minor": 2
}
