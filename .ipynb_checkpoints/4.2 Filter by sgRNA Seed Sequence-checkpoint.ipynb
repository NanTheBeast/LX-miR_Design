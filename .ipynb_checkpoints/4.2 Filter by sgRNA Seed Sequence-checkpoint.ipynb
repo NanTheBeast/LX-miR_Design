{
 "cells": [
  {
   "cell_type": "markdown",
   "metadata": {},
   "source": [
    "# Find Overlapping Seed sgRNAs\n",
    "\n",
    "The <b>OverlappingSgRNAs</b> table contains information about which sgRNAs have identical seeds (the 12 bases closest to the PAM). These sgRNAs which target the same miRNA are likely to have similar off-target sites and may create false positives. Therefore, only one sgRNA with any given seed is used when there are enough sgRNA to allow for the top four to be choosen. The SelectedSgID has a higher ZhangScore than the OverlappingSgID, which is discarded. "
   ]
  },
  {
   "cell_type": "code",
   "execution_count": null,
   "metadata": {},
   "outputs": [],
   "source": [
    "import itertools\n",
    "import getpass\n",
    "import pandas as pd\n",
    "import data_processing as dp\n",
    "\n",
    "def find_overlapping(db_name, sql_version=\"MySQL\", firewall=False):\n",
    "    db_con = dp.DatabaseConnection(sql_version, db_name=db_name, firewall=firewall)\n",
    "        \n",
    "    db_con.make_table(\"OverlappingSgRNAs\", {\"SelectedSgID\": [\"INT\"], \n",
    "                                            \"OverlappingSgID\": [\"INT\"]})\n",
    "    \n",
    "    # find primary miRNAs which have greater than five sgRNAs targeting them\n",
    "    rows = db_con.fetch_query(\"\"\"SELECT p.PriID\n",
    "FROM SgRNATargetInformation AS t\n",
    "JOIN PrimaryMicroRNA AS p\n",
    "ON t.PriID = p.PriID\n",
    "JOIN (SELECT SgID FROM SingleGuideRNA WHERE Exclude IS NULL) AS s\n",
    "ON t.SgID = s.SgID\n",
    "GROUP BY p.PriID\n",
    "HAVING COUNT(DISTINCT s.SgID) > 5\"\"\")\n",
    "    if sql_version == \"MSSQL\":\n",
    "        priIDs = [\"{}\".format(row.PriID) for row in rows]\n",
    "    else:\n",
    "        priIDs = [\"{}\".format(priID) for priID, in rows]\n",
    "    pri_str = \",\".join([\"'{}'\".format(pri) for pri in priIDs])\n",
    "    \n",
    "    # find corresponding possible sgRNAs\n",
    "    df = db_con.fetch_query_as_df(\"\"\"SELECT t.PriID, s.SgID, s.SgRNA, s.ZhangScore\n",
    "FROM SingleGuideRNA AS s\n",
    "JOIN SgRNATargetInformation AS t\n",
    "ON s.SgID = t.SgID\n",
    "WHERE s.Exclude IS NULL AND t.PriID IN ({})\"\"\".format(pri_str), \"SgID\")\n",
    "    \n",
    "    make_row = {\"SelectedSgID\": [], \"OverlappingSgID\": []}\n",
    "    for pri in priIDs:\n",
    "        sg_df = df[df[\"PriID\"] == pri]\n",
    "        sgs = sg_df.index.tolist()\n",
    "        \n",
    "        # This will look at all possible combinations of two sgRNAs in from the list of sgRNAs\n",
    "        for sg1, sg2 in itertools.combinations(sgs, 2):\n",
    "            if sg_df.get_value(sg1, \"SgRNA\")[8:] == sg_df.get_value(sg2, \"SgRNA\")[8:]:\n",
    "                if sg_df.get_value(sg1, \"ZhangScore\") > sg_df.get_value(sg2, \"ZhangScore\"):\n",
    "                    make_row[\"SelectedSgID\"] += [sg1]\n",
    "                    make_row[\"OverlappingSgID\"] += [sg2]\n",
    "                else:\n",
    "                    make_row[\"SelectedSgID\"] += [sg2]\n",
    "                    make_row[\"OverlappingSgID\"] += [sg1]\n",
    "    \n",
    "    # inserts rows into the OverlappingSgRNAs table\n",
    "    db_con.make_many_rows(make_row, \"OverlappingSgRNAs\")\n",
    "    db_con.close_cursor()\n",
    "    db_con.close_connection()"
   ]
  },
  {
   "cell_type": "code",
   "execution_count": null,
   "metadata": {},
   "outputs": [],
   "source": [
    "find_overlapping(\"miR-test\", firewall=True)"
   ]
  }
 ],
 "metadata": {
  "kernelspec": {
   "display_name": "Python 2",
   "language": "python",
   "name": "python2"
  },
  "language_info": {
   "codemirror_mode": {
    "name": "ipython",
    "version": 2
   },
   "file_extension": ".py",
   "mimetype": "text/x-python",
   "name": "python",
   "nbconvert_exporter": "python",
   "pygments_lexer": "ipython2",
   "version": "2.7.9"
  }
 },
 "nbformat": 4,
 "nbformat_minor": 2
}
